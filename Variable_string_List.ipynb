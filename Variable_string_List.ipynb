{
 "cells": [
  {
   "cell_type": "markdown",
   "id": "8a46be79",
   "metadata": {},
   "source": [
    "## Variables\n"
   ]
  },
  {
   "cell_type": "code",
   "execution_count": 4,
   "id": "fca4845c",
   "metadata": {},
   "outputs": [
    {
     "name": "stdout",
     "output_type": "stream",
     "text": [
      "87\n",
      "121\n",
      "My name is :gaurav\n"
     ]
    }
   ],
   "source": [
    "rent = 34\n",
    "gas = 87\n",
    "item = \"gaurav\"\n",
    "print(gas)\n",
    "print(gas+rent)\n",
    "print(\"My name is :\" + item)"
   ]
  },
  {
   "cell_type": "markdown",
   "id": "d0d9ab9e",
   "metadata": {},
   "source": [
    "# Numbers"
   ]
  },
  {
   "cell_type": "code",
   "execution_count": 16,
   "id": "1138a77c",
   "metadata": {},
   "outputs": [
    {
     "data": {
      "text/plain": [
       "0.2999999999999998"
      ]
     },
     "execution_count": 16,
     "metadata": {},
     "output_type": "execute_result"
    }
   ],
   "source": [
    "5 + 5\n",
    "4**4\n",
    "6 - 5.7"
   ]
  },
  {
   "cell_type": "code",
   "execution_count": 10,
   "id": "0f29620f",
   "metadata": {},
   "outputs": [
    {
     "data": {
      "text/plain": [
       "6.692"
      ]
     },
     "execution_count": 10,
     "metadata": {},
     "output_type": "execute_result"
    }
   ],
   "source": [
    "total_dist = 435\n",
    "mph = 65\n",
    "time = total_dist/mph\n",
    "time\n",
    "round(time,3)"
   ]
  },
  {
   "cell_type": "markdown",
   "id": "4c3eebcb",
   "metadata": {},
   "source": [
    "# String"
   ]
  },
  {
   "cell_type": "code",
   "execution_count": 33,
   "id": "e4e5a248",
   "metadata": {},
   "outputs": [
    {
     "name": "stdout",
     "output_type": "stream",
     "text": [
      "hello World\n"
     ]
    },
    {
     "data": {
      "text/plain": [
       "'My name is gaurav and I am 20 years old'"
      ]
     },
     "execution_count": 33,
     "metadata": {},
     "output_type": "execute_result"
    }
   ],
   "source": [
    "#it is un mutable\n",
    "text = \"ice Cream\"\n",
    "text\n",
    "text[0]\n",
    "text[0:3]\n",
    "text[4:9]\n",
    "text[:3]\n",
    "#we can use single and double cotes\n",
    "#for multiple lines use triple cotes\n",
    "s1= \"hello\"\n",
    "s2= \"World\"\n",
    "print(s1+ ' '+s2)\n",
    "s = \"My name is gaurav and I am \"\n",
    "num = 20\n",
    "v = \" years old\"\n",
    "s + str(num) + v"
   ]
  },
  {
   "cell_type": "markdown",
   "id": "fe6f8d06",
   "metadata": {},
   "source": [
    "# List "
   ]
  },
  {
   "cell_type": "code",
   "execution_count": 3,
   "id": "aeba6f0f",
   "metadata": {},
   "outputs": [
    {
     "data": {
      "text/plain": [
       "['bread', 'pasta', 'fruits', 'Vegis']"
      ]
     },
     "execution_count": 3,
     "metadata": {},
     "output_type": "execute_result"
    }
   ],
   "source": [
    "li = [\"bread\", \"pasta\", \"fruits\", \"Vegis\"]\n",
    "li"
   ]
  },
  {
   "cell_type": "code",
   "execution_count": 7,
   "id": "9163f54f",
   "metadata": {},
   "outputs": [
    {
     "name": "stdout",
     "output_type": "stream",
     "text": [
      "Chips\n"
     ]
    },
    {
     "data": {
      "text/plain": [
       "['bread', 'Chips', 'fruits', 'Vegis']"
      ]
     },
     "execution_count": 7,
     "metadata": {},
     "output_type": "execute_result"
    }
   ],
   "source": [
    "print(li[1])\n",
    "li[1]=\"Chips\"\n",
    "li"
   ]
  },
  {
   "cell_type": "code",
   "execution_count": 8,
   "id": "a08a8836",
   "metadata": {},
   "outputs": [
    {
     "data": {
      "text/plain": [
       "['bread', 'Chips']"
      ]
     },
     "execution_count": 8,
     "metadata": {},
     "output_type": "execute_result"
    }
   ],
   "source": [
    "li[:2]"
   ]
  },
  {
   "cell_type": "code",
   "execution_count": 9,
   "id": "4faa59dd",
   "metadata": {},
   "outputs": [
    {
     "data": {
      "text/plain": [
       "['bread', 'Chips', 'fruits', 'Vegis', 'butter']"
      ]
     },
     "execution_count": 9,
     "metadata": {},
     "output_type": "execute_result"
    }
   ],
   "source": [
    "li.append(\"butter\")\n",
    "li"
   ]
  },
  {
   "cell_type": "code",
   "execution_count": 10,
   "id": "ec114e6a",
   "metadata": {},
   "outputs": [
    {
     "data": {
      "text/plain": [
       "['bread', 'jaggri', 'Chips', 'fruits', 'Vegis', 'butter']"
      ]
     },
     "execution_count": 10,
     "metadata": {},
     "output_type": "execute_result"
    }
   ],
   "source": [
    "li.insert(1,'jaggri')\n",
    "li"
   ]
  },
  {
   "cell_type": "code",
   "execution_count": 19,
   "id": "44d57d7a",
   "metadata": {},
   "outputs": [
    {
     "data": {
      "text/plain": [
       "6"
      ]
     },
     "execution_count": 19,
     "metadata": {},
     "output_type": "execute_result"
    }
   ],
   "source": [
    "food=['bread', 'pasta', 'fruits', 'Vegis']\n",
    "baath=[\"shampoo\",\"soap\"]\n",
    "l1=food+baath\n",
    "l1\n",
    "len(l1)"
   ]
  },
  {
   "cell_type": "code",
   "execution_count": 18,
   "id": "58568731",
   "metadata": {},
   "outputs": [
    {
     "data": {
      "text/plain": [
       "True"
      ]
     },
     "execution_count": 18,
     "metadata": {},
     "output_type": "execute_result"
    }
   ],
   "source": [
    "\"bread\" in l1"
   ]
  }
 ],
 "metadata": {
  "kernelspec": {
   "display_name": "Python 3 (ipykernel)",
   "language": "python",
   "name": "python3"
  },
  "language_info": {
   "codemirror_mode": {
    "name": "ipython",
    "version": 3
   },
   "file_extension": ".py",
   "mimetype": "text/x-python",
   "name": "python",
   "nbconvert_exporter": "python",
   "pygments_lexer": "ipython3",
   "version": "3.10.9"
  }
 },
 "nbformat": 4,
 "nbformat_minor": 5
}
